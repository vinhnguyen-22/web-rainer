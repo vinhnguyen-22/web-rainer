{
 "cells": [
  {
   "cell_type": "code",
   "execution_count": 2,
   "id": "138f157a",
   "metadata": {},
   "outputs": [
    {
     "name": "stderr",
     "output_type": "stream",
     "text": [
      "d:\\Projects\\Github\\web-rainer\\venv\\Scripts\\python.exe: No module named pip\n"
     ]
    }
   ],
   "source": [
    "import sys\n",
    "!{sys.executable} -m pip install --upgrade slack-sdk"
   ]
  },
  {
   "cell_type": "code",
   "execution_count": 5,
   "id": "8c6f9f84",
   "metadata": {},
   "outputs": [
    {
     "ename": "ModuleNotFoundError",
     "evalue": "No module named 'slack_sdk'",
     "output_type": "error",
     "traceback": [
      "\u001b[31m---------------------------------------------------------------------------\u001b[39m",
      "\u001b[31mModuleNotFoundError\u001b[39m                       Traceback (most recent call last)",
      "\u001b[36mCell\u001b[39m\u001b[36m \u001b[39m\u001b[32mIn[5]\u001b[39m\u001b[32m, line 1\u001b[39m\n\u001b[32m----> \u001b[39m\u001b[32m1\u001b[39m \u001b[38;5;28;01mfrom\u001b[39;00m\u001b[38;5;250m \u001b[39m\u001b[34;01mslack_sdk\u001b[39;00m\u001b[38;5;250m \u001b[39m\u001b[38;5;28;01mimport\u001b[39;00m WebClient\n\u001b[32m      2\u001b[39m \u001b[38;5;28;01mfrom\u001b[39;00m\u001b[38;5;250m \u001b[39m\u001b[34;01mslack_sdk\u001b[39;00m\u001b[34;01m.\u001b[39;00m\u001b[34;01merrors\u001b[39;00m\u001b[38;5;250m \u001b[39m\u001b[38;5;28;01mimport\u001b[39;00m SlackApiError\n\u001b[32m      3\u001b[39m \u001b[38;5;28;01mimport\u001b[39;00m\u001b[38;5;250m \u001b[39m\u001b[34;01mjson\u001b[39;00m\n",
      "\u001b[31mModuleNotFoundError\u001b[39m: No module named 'slack_sdk'"
     ]
    }
   ],
   "source": [
    "from slack_sdk import WebClient\n",
    "from slack_sdk.errors import SlackApiError\n",
    "import json\n",
    "\n",
    "token = \"iED9HomkahjGcGGQw4jXdCJe\"\n",
    "client = WebClient(token=token)\n",
    "\n",
    "# 1) Tìm conversation id của DM với user (user_id của người kia)\n",
    "user_id = \"U01234567\"\n",
    "try:\n",
    "    resp = client.users_conversations(\n",
    "        types=\"im,mpim\", user=user_id\n",
    "    )  # nếu token có quyền\n",
    "    # Lưu ý: users_conversations thường trả các conv mà 'auth' user tham gia\n",
    "    print(json.dumps(resp.data, indent=2))\n",
    "except SlackApiError as e:\n",
    "    print(\"Error:\", e.response[\"error\"])\n",
    "\n",
    "# 2) Khi có conversation_id, lấy lịch sử\n",
    "conversation_id = \"D08L5B0PM0E\"  # ví dụ\n",
    "try:\n",
    "    all_msgs = []\n",
    "    cursor = None\n",
    "    while True:\n",
    "        resp = client.conversations_history(\n",
    "            channel=conversation_id, cursor=cursor, limit=200\n",
    "        )\n",
    "        all_msgs.extend(resp[\"messages\"])\n",
    "        cursor = resp.get(\"response_metadata\", {}).get(\"next_cursor\")\n",
    "        if not cursor:\n",
    "            break\n",
    "    # lưu file\n",
    "    with open(\"dm_history.json\", \"w\", encoding=\"utf-8\") as f:\n",
    "        json.dump(all_msgs, f, ensure_ascii=False, indent=2)\n",
    "    print(f\"Đã lưu {len(all_msgs)} tin nhắn\")\n",
    "except SlackApiError as e:\n",
    "    print(\"Error:\", e.response[\"error\"])"
   ]
  }
 ],
 "metadata": {
  "kernelspec": {
   "display_name": "venv",
   "language": "python",
   "name": "python3"
  },
  "language_info": {
   "codemirror_mode": {
    "name": "ipython",
    "version": 3
   },
   "file_extension": ".py",
   "mimetype": "text/x-python",
   "name": "python",
   "nbconvert_exporter": "python",
   "pygments_lexer": "ipython3",
   "version": "3.13.7"
  }
 },
 "nbformat": 4,
 "nbformat_minor": 5
}
